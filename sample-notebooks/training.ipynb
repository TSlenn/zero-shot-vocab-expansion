{
 "cells": [
  {
   "cell_type": "code",
   "execution_count": null,
   "metadata": {},
   "outputs": [],
   "source": [
    "from zero_shot_vocab_expansion import EmbeddingModel\n",
    "from zero_shot_vocab_expansion.dataset import VocabDataset\n",
    "from zero_shot_vocab_expansion.dataset import split_dataset\n",
    "from zero_shot_vocab_expansion import EmbeddingModel\n",
    "from sentence_transformers.losses import MSELoss\n",
    "from torch.utils.data import DataLoader\n",
    "import torch\n",
    "\n",
    "print(f\"GPU: {torch.cuda.is_available()}\")\n",
    "\n",
    "\n",
    "ds = VocabDataset(\"bert-base-uncased\", select_definition=\"random\")\n",
    "train_ds, test_ds = split_dataset(ds, 0.8)\n",
    "print(f\"Training samples: {len(train_ds)}\")\n",
    "print(f\"Testing samples: {len(test_ds)}\")"
   ]
  },
  {
   "cell_type": "code",
   "execution_count": null,
   "metadata": {},
   "outputs": [],
   "source": [
    "print(f\"word: {ds[30].guid}, def: {ds[30].texts}\")"
   ]
  },
  {
   "cell_type": "markdown",
   "metadata": {},
   "source": [
    "All models, Datasets, DataLoaders, and training calls are based on the Sentence Transformers package by HuggingFace.  \n",
    "https://www.sbert.net/index.html"
   ]
  },
  {
   "cell_type": "code",
   "execution_count": null,
   "metadata": {},
   "outputs": [],
   "source": [
    "train_loader = DataLoader(train_ds, shuffle=True, batch_size=16)\n",
    "# NOTE: next(iter(train_loader)) will not work. SentenceTransformers overrides default collate_fn\n",
    "# Evaluator encodes all definitions for each word, then averages the definition embeddings before\n",
    "# calculating MSE.\n",
    "evaluator = test_ds.to_evaluator()\n",
    "model = EmbeddingModel(\"bert-base-uncased\")\n",
    "loss = MSELoss(model)"
   ]
  },
  {
   "cell_type": "code",
   "execution_count": null,
   "metadata": {},
   "outputs": [],
   "source": [
    "model.fit(train_objectives=[(train_loader, loss)], epochs=1, evaluator=evaluator)"
   ]
  }
 ],
 "metadata": {
  "kernelspec": {
   "display_name": "Python 3.8.5 ('ENV': venv)",
   "language": "python",
   "name": "python3"
  },
  "language_info": {
   "codemirror_mode": {
    "name": "ipython",
    "version": 3
   },
   "file_extension": ".py",
   "mimetype": "text/x-python",
   "name": "python",
   "nbconvert_exporter": "python",
   "pygments_lexer": "ipython3",
   "version": "3.8.5 (tags/v3.8.5:580fbb0, Jul 20 2020, 15:57:54) [MSC v.1924 64 bit (AMD64)]"
  },
  "orig_nbformat": 4,
  "vscode": {
   "interpreter": {
    "hash": "357eb52af5e9905ccdf22fe25ce9399eaa42852c45a591339cb6669f46e63818"
   }
  }
 },
 "nbformat": 4,
 "nbformat_minor": 2
}
